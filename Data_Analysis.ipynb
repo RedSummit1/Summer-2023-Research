{
 "cells": [
  {
   "cell_type": "code",
   "execution_count": 1,
   "id": "3ee8b2af-a550-4014-b4b8-9f3605be731c",
   "metadata": {},
   "outputs": [],
   "source": [
    "import pandas as pd\n",
    "import numpy as np\n",
    "import matplotlib.pyplot as plt"
   ]
  },
  {
   "cell_type": "code",
   "execution_count": 2,
   "id": "9e0e9c23-951e-4d68-8fa0-996ff92baa45",
   "metadata": {},
   "outputs": [],
   "source": [
    "Iterative = pd.read_csv(\"Iterative_data.csv\")\n",
    "Memoization = pd.read_csv(\"Memoization_data.csv\")\n",
    "Regular = pd.read_csv(\"Regular_data.csv\")"
   ]
  },
  {
   "cell_type": "code",
   "execution_count": 3,
   "id": "1e2c5dbd-6f79-4feb-9ccf-bfebbc8b75f0",
   "metadata": {},
   "outputs": [],
   "source": [
    "Iterative.set_index(\"size\",inplace=True)\n",
    "Memoization.set_index(\"size\",inplace=True)\n",
    "Regular.set_index(\"size\",inplace=True)"
   ]
  },
  {
   "cell_type": "code",
   "execution_count": 4,
   "id": "c3fc3a4c-0b39-486c-9736-7f7bfac2d926",
   "metadata": {},
   "outputs": [],
   "source": [
    "data = [Regular.T,Memoization.T,Iterative.T]"
   ]
  },
  {
   "cell_type": "code",
   "execution_count": 5,
   "id": "cba727d5-4a8c-4ddc-98ec-36193d03b5fb",
   "metadata": {},
   "outputs": [
    {
     "data": {
      "text/plain": [
       "<Figure size 640x480 with 0 Axes>"
      ]
     },
     "execution_count": 5,
     "metadata": {},
     "output_type": "execute_result"
    },
    {
     "data": {
      "text/plain": [
       "<Figure size 640x480 with 0 Axes>"
      ]
     },
     "metadata": {},
     "output_type": "display_data"
    }
   ],
   "source": [
    "plt.figure()"
   ]
  },
  {
   "cell_type": "code",
   "execution_count": 6,
   "id": "7d0c923b-1964-4073-9b65-f16127de95d9",
   "metadata": {},
   "outputs": [
    {
     "name": "stdout",
     "output_type": "stream",
     "text": [
      "size\n",
      "10            0.0\n",
      "100          13.0\n",
      "1000        204.5\n",
      "10000      2538.1\n",
      "100000    26977.9\n",
      "dtype: float64\n",
      "size\n",
      "10            1.5\n",
      "100          17.2\n",
      "1000        188.3\n",
      "10000      2201.7\n",
      "100000    15005.0\n",
      "dtype: float64\n",
      "size\n",
      "10            10.9\n",
      "100          204.8\n",
      "1000        1143.2\n",
      "10000       9196.2\n",
      "100000    120971.3\n",
      "dtype: float64\n"
     ]
    }
   ],
   "source": [
    "print(data[0].agg(func='mean',axis=0))\n",
    "print(data[1].agg(func='mean',axis=0))\n",
    "print(data[2].agg(func='mean',axis=0))"
   ]
  },
  {
   "cell_type": "code",
   "execution_count": 7,
   "id": "d245c40b-fe55-4deb-acdf-2fd3c9b72a85",
   "metadata": {},
   "outputs": [
    {
     "data": {
      "text/html": [
       "<div>\n",
       "<style scoped>\n",
       "    .dataframe tbody tr th:only-of-type {\n",
       "        vertical-align: middle;\n",
       "    }\n",
       "\n",
       "    .dataframe tbody tr th {\n",
       "        vertical-align: top;\n",
       "    }\n",
       "\n",
       "    .dataframe thead th {\n",
       "        text-align: right;\n",
       "    }\n",
       "</style>\n",
       "<table border=\"1\" class=\"dataframe\">\n",
       "  <thead>\n",
       "    <tr style=\"text-align: right;\">\n",
       "      <th>size</th>\n",
       "      <th>10</th>\n",
       "      <th>100</th>\n",
       "      <th>1000</th>\n",
       "      <th>10000</th>\n",
       "      <th>100000</th>\n",
       "    </tr>\n",
       "  </thead>\n",
       "  <tbody>\n",
       "    <tr>\n",
       "      <th>Trial1</th>\n",
       "      <td>13</td>\n",
       "      <td>280</td>\n",
       "      <td>2099</td>\n",
       "      <td>10521</td>\n",
       "      <td>120865</td>\n",
       "    </tr>\n",
       "    <tr>\n",
       "      <th>Trial2</th>\n",
       "      <td>10</td>\n",
       "      <td>179</td>\n",
       "      <td>1371</td>\n",
       "      <td>10387</td>\n",
       "      <td>120684</td>\n",
       "    </tr>\n",
       "    <tr>\n",
       "      <th>Trial3</th>\n",
       "      <td>10</td>\n",
       "      <td>178</td>\n",
       "      <td>1149</td>\n",
       "      <td>9215</td>\n",
       "      <td>122506</td>\n",
       "    </tr>\n",
       "    <tr>\n",
       "      <th>Trial4</th>\n",
       "      <td>10</td>\n",
       "      <td>177</td>\n",
       "      <td>1264</td>\n",
       "      <td>8857</td>\n",
       "      <td>133565</td>\n",
       "    </tr>\n",
       "    <tr>\n",
       "      <th>Trial5</th>\n",
       "      <td>10</td>\n",
       "      <td>179</td>\n",
       "      <td>914</td>\n",
       "      <td>8842</td>\n",
       "      <td>118616</td>\n",
       "    </tr>\n",
       "    <tr>\n",
       "      <th>Trial6</th>\n",
       "      <td>9</td>\n",
       "      <td>185</td>\n",
       "      <td>907</td>\n",
       "      <td>8864</td>\n",
       "      <td>118318</td>\n",
       "    </tr>\n",
       "    <tr>\n",
       "      <th>Trial7</th>\n",
       "      <td>9</td>\n",
       "      <td>191</td>\n",
       "      <td>880</td>\n",
       "      <td>8835</td>\n",
       "      <td>118424</td>\n",
       "    </tr>\n",
       "    <tr>\n",
       "      <th>Trial8</th>\n",
       "      <td>13</td>\n",
       "      <td>286</td>\n",
       "      <td>819</td>\n",
       "      <td>8791</td>\n",
       "      <td>119244</td>\n",
       "    </tr>\n",
       "    <tr>\n",
       "      <th>Trial9</th>\n",
       "      <td>12</td>\n",
       "      <td>213</td>\n",
       "      <td>856</td>\n",
       "      <td>8824</td>\n",
       "      <td>118548</td>\n",
       "    </tr>\n",
       "    <tr>\n",
       "      <th>Trial10</th>\n",
       "      <td>13</td>\n",
       "      <td>180</td>\n",
       "      <td>1173</td>\n",
       "      <td>8826</td>\n",
       "      <td>118943</td>\n",
       "    </tr>\n",
       "  </tbody>\n",
       "</table>\n",
       "</div>"
      ],
      "text/plain": [
       "size     10      100     1000    10000   100000\n",
       "Trial1       13     280    2099   10521  120865\n",
       "Trial2       10     179    1371   10387  120684\n",
       "Trial3       10     178    1149    9215  122506\n",
       "Trial4       10     177    1264    8857  133565\n",
       "Trial5       10     179     914    8842  118616\n",
       "Trial6        9     185     907    8864  118318\n",
       "Trial7        9     191     880    8835  118424\n",
       "Trial8       13     286     819    8791  119244\n",
       "Trial9       12     213     856    8824  118548\n",
       "Trial10      13     180    1173    8826  118943"
      ]
     },
     "execution_count": 7,
     "metadata": {},
     "output_type": "execute_result"
    }
   ],
   "source": [
    "data[2]"
   ]
  },
  {
   "cell_type": "code",
   "execution_count": 8,
   "id": "13241fef-b170-42d0-b91a-58e1e7392b9d",
   "metadata": {},
   "outputs": [
    {
     "data": {
      "image/png": "[encoded data removed]",
      "text/plain": [
       "<Figure size 640x480 with 1 Axes>"
      ]
     },
     "metadata": {},
     "output_type": "display_data"
    }
   ],
   "source": [
    "#Graph 1\n",
    "fig,ax = plt.subplots()\n",
    "size = [\"Regular\",\"Memoization\",\"Iteration\"]\n",
    "average = [data[0].iloc[:,0].mean(), data[1].iloc[:,0].mean(), data[2].iloc[:,0].mean()]\n",
    "bar_labels = ['red','green','blue']\n",
    "bar_colors = ['tab:red','tab:green','tab:blue']\n",
    "ax.bar(size,average,color=bar_colors,label=bar_labels)\n",
    "ax.set_ylabel('Time in microseconds')\n",
    "ax.set_title(\"Time of completion under a graph of 10 vertices\")\n",
    "plt.savefig(\"Size_10.png\")"
   ]
  },
  {
   "cell_type": "code",
   "execution_count": 9,
   "id": "0105656e-fcea-46b6-b3d5-3b7cee9b6b30",
   "metadata": {},
   "outputs": [
    {
     "data": {
      "image/png": "[encoded data removed]",
      "text/plain": [
       "<Figure size 640x480 with 1 Axes>"
      ]
     },
     "metadata": {},
     "output_type": "display_data"
    }
   ],
   "source": [
    "#Graph 2\n",
    "fig,ax = plt.subplots()\n",
    "size = [\"Regular\",\"Memoization\",\"Iteration\"]\n",
    "average = [data[0].iloc[:,1].mean(), data[1].iloc[:,1].mean(), data[2].iloc[:,1].mean()]\n",
    "bar_colors = ['tab:red','tab:green','tab:blue']\n",
    "bar_labels = ['red','green','blue']\n",
    "ax.bar(size,average,color=bar_colors,label=bar_labels)\n",
    "ax.set_ylabel('Time in microseconds')\n",
    "ax.set_title(\"Time of completion under a graph of 100 vertices\")\n",
    "plt.savefig(\"Size_100.png\")"
   ]
  },
  {
   "cell_type": "code",
   "execution_count": 10,
   "id": "598c0ae4-ebf2-408d-b4ae-bdb212595abc",
   "metadata": {},
   "outputs": [
    {
     "data": {
      "image/png": "[encoded data removed]",
      "text/plain": [
       "<Figure size 640x480 with 1 Axes>"
      ]
     },
     "metadata": {},
     "output_type": "display_data"
    }
   ],
   "source": [
    "#Graph 3\n",
    "fig,ax = plt.subplots()\n",
    "size = [\"Regular\",\"Memoization\",\"Iteration\"]\n",
    "average = [data[0].iloc[:,2].mean(), data[1].iloc[:,2].mean(), data[2].iloc[:,2].mean()]\n",
    "bar_colors = ['tab:red','tab:green','tab:blue']\n",
    "bar_labels = ['red','green','blue']\n",
    "ax.bar(size,average,color=bar_colors,label=bar_labels)\n",
    "ax.set_ylabel('Time in microseconds')\n",
    "ax.set_title(\"Time of completion under a graph of 1000 vertices\")\n",
    "plt.savefig(\"Size_1000.png\")"
   ]
  },
  {
   "cell_type": "code",
   "execution_count": 11,
   "id": "8c277392-f2e7-40dc-8782-0fc690d2cf08",
   "metadata": {},
   "outputs": [
    {
     "data": {
      "image/png": "[encoded data removed]",
      "text/plain": [
       "<Figure size 640x480 with 1 Axes>"
      ]
     },
     "metadata": {},
     "output_type": "display_data"
    }
   ],
   "source": [
    "#Graph 4\n",
    "fig,ax = plt.subplots()\n",
    "size = [\"Regular\",\"Memoization\",\"Iteration\"]\n",
    "average = [data[0].iloc[:,3].mean(), data[1].iloc[:,3].mean(), data[2].iloc[:,3].mean()]\n",
    "bar_colors = ['tab:red','tab:green','tab:blue']\n",
    "bar_labels = ['red','green','blue']\n",
    "ax.bar(size,average,color=bar_colors,label=bar_labels)\n",
    "ax.set_ylabel('Time in microseconds')\n",
    "ax.set_title(\"Time of completion under a graph of 10000 vertices\")\n",
    "plt.savefig(\"Size_10000.png\")"
   ]
  },
  {
   "cell_type": "code",
   "execution_count": 12,
   "id": "980d5057-8eb6-4c1a-8834-57ac7d36381b",
   "metadata": {},
   "outputs": [
    {
     "data": {
      "image/png": "[encoded data removed]",
      "text/plain": [
       "<Figure size 640x480 with 1 Axes>"
      ]
     },
     "metadata": {},
     "output_type": "display_data"
    }
   ],
   "source": [
    "#Graph 5\n",
    "fig,ax = plt.subplots()\n",
    "size = [\"Regular\",\"Memoization\",\"Iteration\"]\n",
    "average = [data[0].iloc[:,4].mean(), data[1].iloc[:,4].mean(), data[2].iloc[:,4].mean()]\n",
    "bar_colors = ['tab:red','tab:green','tab:blue']\n",
    "bar_labels = ['red','green','blue']\n",
    "ax.bar(size,average,color=bar_colors,label=bar_labels)\n",
    "ax.set_ylabel('Time in microseconds')\n",
    "ax.set_title(\"Time of completion under a graph of 100000 vertices\")\n",
    "plt.savefig(\"Size_100000.png\")"
   ]
  },
  {
   "cell_type": "code",
   "execution_count": 13,
   "id": "8d208288-9138-449f-a7d2-384437f855dc",
   "metadata": {},
   "outputs": [
    {
     "data": {
      "text/plain": [
       "3.4840888282631335"
      ]
     },
     "execution_count": 13,
     "metadata": {},
     "output_type": "execute_result"
    }
   ],
   "source": [
    "(data[2].iloc[:,4].mean())/(data[0].iloc[:,4].mean()) - 1"
   ]
  },
  {
   "cell_type": "code",
   "execution_count": 17,
   "id": "93d00007-c36a-4b07-969b-932a4ab806a3",
   "metadata": {},
   "outputs": [
    {
     "data": {
      "text/plain": [
       "Text(0, 0.5, 'Size (n)')"
      ]
     },
     "execution_count": 17,
     "metadata": {},
     "output_type": "execute_result"
    },
    {
     "data": {
      "image/png": "[encoded data removed]",
      "text/plain": [
       "<Figure size 640x480 with 1 Axes>"
      ]
     },
     "metadata": {},
     "output_type": "display_data"
    }
   ],
   "source": [
    "from sklearn.linear_model import LinearRegression\n",
    "\n",
    "plt.plot(data[0].agg(func=\"mean\",axis=0).values,data[0].columns.tolist())\n",
    "plt.plot(data[1].agg(func=\"mean\",axis=0).values,data[0].columns.tolist())\n",
    "plt.xlabel(\"Time (micro seconds)\")\n",
    "plt.ylabel(\"Size (n)\")\n",
    "#data[0].agg(func=\"mean\",axis=0).values"
   ]
  },
  {
   "cell_type": "code",
   "execution_count": 16,
   "id": "dee7d387-55ad-43e8-8e7d-60ceffcd9caf",
   "metadata": {},
   "outputs": [
    {
     "name": "stdout",
     "output_type": "stream",
     "text": [
      "Help on function plot in module matplotlib.pyplot:\n",
      "\n",
      "plot(*args: 'float | ArrayLike | str', scalex: 'bool' = True, scaley: 'bool' = True, data=None, **kwargs) -> 'list[Line2D]'\n",
      "    Plot y versus x as lines and/or markers.\n",
      "    \n",
      "    Call signatures::\n",
      "    \n",
      "        plot([x], y, [fmt], *, data=None, **kwargs)\n",
      "        plot([x], y, [fmt], [x2], y2, [fmt2], ..., **kwargs)\n",
      "    \n",
      "    The coordinates of the points or line nodes are given by *x*, *y*.\n",
      "    \n",
      "    The optional parameter *fmt* is a convenient way for defining basic\n",
      "    formatting like color, marker and linestyle. It's a shortcut string\n",
      "    notation described in the *Notes* section below.\n",
      "    \n",
      "    >>> plot(x, y)        # plot x and y using default line style and color\n",
      "    >>> plot(x, y, 'bo')  # plot x and y using blue circle markers\n",
      "    >>> plot(y)           # plot y using x as index array 0..N-1\n",
      "    >>> plot(y, 'r+')     # ditto, but with red plusses\n",
      "    \n",
      "    You can use `.Line2D` properties as keyword arguments for more\n",
      "    control on the appearance. Line properties and *fmt* can be mixed.\n",
      "    The following two calls yield identical results:\n",
      "    \n",
      "    >>> plot(x, y, 'go--', linewidth=2, markersize=12)\n",
      "    >>> plot(x, y, color='green', marker='o', linestyle='dashed',\n",
      "    ...      linewidth=2, markersize=12)\n",
      "    \n",
      "    When conflicting with *fmt*, keyword arguments take precedence.\n",
      "    \n",
      "    \n",
      "    **Plotting labelled data**\n",
      "    \n",
      "    There's a convenient way for plotting objects with labelled data (i.e.\n",
      "    data that can be accessed by index ``obj['y']``). Instead of giving\n",
      "    the data in *x* and *y*, you can provide the object in the *data*\n",
      "    parameter and just give the labels for *x* and *y*::\n",
      "    \n",
      "    >>> plot('xlabel', 'ylabel', data=obj)\n",
      "    \n",
      "    All indexable objects are supported. This could e.g. be a `dict`, a\n",
      "    `pandas.DataFrame` or a structured numpy array.\n",
      "    \n",
      "    \n",
      "    **Plotting multiple sets of data**\n",
      "    \n",
      "    There are various ways to plot multiple sets of data.\n",
      "    \n",
      "    - The most straight forward way is just to call `plot` multiple times.\n",
      "      Example:\n",
      "    \n",
      "      >>> plot(x1, y1, 'bo')\n",
      "      >>> plot(x2, y2, 'go')\n",
      "    \n",
      "    - If *x* and/or *y* are 2D arrays a separate data set will be drawn\n",
      "      for every column. If both *x* and *y* are 2D, they must have the\n",
      "      same shape. If only one of them is 2D with shape (N, m) the other\n",
      "      must have length N and will be used for every data set m.\n",
      "    \n",
      "      Example:\n",
      "    \n",
      "      >>> x = [1, 2, 3]\n",
      "      >>> y = np.array([[1, 2], [3, 4], [5, 6]])\n",
      "      >>> plot(x, y)\n",
      "    \n",
      "      is equivalent to:\n",
      "    \n",
      "      >>> for col in range(y.shape[1]):\n",
      "      ...     plot(x, y[:, col])\n",
      "    \n",
      "    - The third way is to specify multiple sets of *[x]*, *y*, *[fmt]*\n",
      "      groups::\n",
      "    \n",
      "      >>> plot(x1, y1, 'g^', x2, y2, 'g-')\n",
      "    \n",
      "      In this case, any additional keyword argument applies to all\n",
      "      datasets. Also, this syntax cannot be combined with the *data*\n",
      "      parameter.\n",
      "    \n",
      "    By default, each line is assigned a different style specified by a\n",
      "    'style cycle'. The *fmt* and line property parameters are only\n",
      "    necessary if you want explicit deviations from these defaults.\n",
      "    Alternatively, you can also change the style cycle using\n",
      "    :rc:`axes.prop_cycle`.\n",
      "    \n",
      "    \n",
      "    Parameters\n",
      "    ----------\n",
      "    x, y : array-like or scalar\n",
      "        The horizontal / vertical coordinates of the data points.\n",
      "        *x* values are optional and default to ``range(len(y))``.\n",
      "    \n",
      "        Commonly, these parameters are 1D arrays.\n",
      "    \n",
      "        They can also be scalars, or two-dimensional (in that case, the\n",
      "        columns represent separate data sets).\n",
      "    \n",
      "        These arguments cannot be passed as keywords.\n",
      "    \n",
      "    fmt : str, optional\n",
      "        A format string, e.g. 'ro' for red circles. See the *Notes*\n",
      "        section for a full description of the format strings.\n",
      "    \n",
      "        Format strings are just an abbreviation for quickly setting\n",
      "        basic line properties. All of these and more can also be\n",
      "        controlled by keyword arguments.\n",
      "    \n",
      "        This argument cannot be passed as keyword.\n",
      "    \n",
      "    data : indexable object, optional\n",
      "        An object with labelled data. If given, provide the label names to\n",
      "        plot in *x* and *y*.\n",
      "    \n",
      "        .. note::\n",
      "            Technically there's a slight ambiguity in calls where the\n",
      "            second label is a valid *fmt*. ``plot('n', 'o', data=obj)``\n",
      "            could be ``plt(x, y)`` or ``plt(y, fmt)``. In such cases,\n",
      "            the former interpretation is chosen, but a warning is issued.\n",
      "            You may suppress the warning by adding an empty format string\n",
      "            ``plot('n', 'o', '', data=obj)``.\n",
      "    \n",
      "    Returns\n",
      "    -------\n",
      "    list of `.Line2D`\n",
      "        A list of lines representing the plotted data.\n",
      "    \n",
      "    Other Parameters\n",
      "    ----------------\n",
      "    scalex, scaley : bool, default: True\n",
      "        These parameters determine if the view limits are adapted to the\n",
      "        data limits. The values are passed on to\n",
      "        `~.axes.Axes.autoscale_view`.\n",
      "    \n",
      "    **kwargs : `~matplotlib.lines.Line2D` properties, optional\n",
      "        *kwargs* are used to specify properties like a line label (for\n",
      "        auto legends), linewidth, antialiasing, marker face color.\n",
      "        Example::\n",
      "    \n",
      "        >>> plot([1, 2, 3], [1, 2, 3], 'go-', label='line 1', linewidth=2)\n",
      "        >>> plot([1, 2, 3], [1, 4, 9], 'rs', label='line 2')\n",
      "    \n",
      "        If you specify multiple lines with one plot call, the kwargs apply\n",
      "        to all those lines. In case the label object is iterable, each\n",
      "        element is used as labels for each set of data.\n",
      "    \n",
      "        Here is a list of available `.Line2D` properties:\n",
      "    \n",
      "        Properties:\n",
      "        agg_filter: a filter function, which takes a (m, n, 3) float array and a dpi value, and returns a (m, n, 3) array and two offsets from the bottom left corner of the image\n",
      "        alpha: scalar or None\n",
      "        animated: bool\n",
      "        antialiased or aa: bool\n",
      "        clip_box: `~matplotlib.transforms.BboxBase` or None\n",
      "        clip_on: bool\n",
      "        clip_path: Patch or (Path, Transform) or None\n",
      "        color or c: color\n",
      "        dash_capstyle: `.CapStyle` or {'butt', 'projecting', 'round'}\n",
      "        dash_joinstyle: `.JoinStyle` or {'miter', 'round', 'bevel'}\n",
      "        dashes: sequence of floats (on/off ink in points) or (None, None)\n",
      "        data: (2, N) array or two 1D arrays\n",
      "        drawstyle or ds: {'default', 'steps', 'steps-pre', 'steps-mid', 'steps-post'}, default: 'default'\n",
      "        figure: `~matplotlib.figure.Figure`\n",
      "        fillstyle: {'full', 'left', 'right', 'bottom', 'top', 'none'}\n",
      "        gapcolor: color or None\n",
      "        gid: str\n",
      "        in_layout: bool\n",
      "        label: object\n",
      "        linestyle or ls: {'-', '--', '-.', ':', '', (offset, on-off-seq), ...}\n",
      "        linewidth or lw: float\n",
      "        marker: marker style string, `~.path.Path` or `~.markers.MarkerStyle`\n",
      "        markeredgecolor or mec: color\n",
      "        markeredgewidth or mew: float\n",
      "        markerfacecolor or mfc: color\n",
      "        markerfacecoloralt or mfcalt: color\n",
      "        markersize or ms: float\n",
      "        markevery: None or int or (int, int) or slice or list[int] or float or (float, float) or list[bool]\n",
      "        mouseover: bool\n",
      "        path_effects: list of `.AbstractPathEffect`\n",
      "        picker: float or callable[[Artist, Event], tuple[bool, dict]]\n",
      "        pickradius: float\n",
      "        rasterized: bool\n",
      "        sketch_params: (scale: float, length: float, randomness: float)\n",
      "        snap: bool or None\n",
      "        solid_capstyle: `.CapStyle` or {'butt', 'projecting', 'round'}\n",
      "        solid_joinstyle: `.JoinStyle` or {'miter', 'round', 'bevel'}\n",
      "        transform: unknown\n",
      "        url: str\n",
      "        visible: bool\n",
      "        xdata: 1D array\n",
      "        ydata: 1D array\n",
      "        zorder: float\n",
      "    \n",
      "    See Also\n",
      "    --------\n",
      "    scatter : XY scatter plot with markers of varying size and/or color (\n",
      "        sometimes also called bubble chart).\n",
      "    \n",
      "    Notes\n",
      "    -----\n",
      "    **Format Strings**\n",
      "    \n",
      "    A format string consists of a part for color, marker and line::\n",
      "    \n",
      "        fmt = '[marker][line][color]'\n",
      "    \n",
      "    Each of them is optional. If not provided, the value from the style\n",
      "    cycle is used. Exception: If ``line`` is given, but no ``marker``,\n",
      "    the data will be a line without markers.\n",
      "    \n",
      "    Other combinations such as ``[color][marker][line]`` are also\n",
      "    supported, but note that their parsing may be ambiguous.\n",
      "    \n",
      "    **Markers**\n",
      "    \n",
      "    =============   ===============================\n",
      "    character       description\n",
      "    =============   ===============================\n",
      "    ``'.'``         point marker\n",
      "    ``','``         pixel marker\n",
      "    ``'o'``         circle marker\n",
      "    ``'v'``         triangle_down marker\n",
      "    ``'^'``         triangle_up marker\n",
      "    ``'<'``         triangle_left marker\n",
      "    ``'>'``         triangle_right marker\n",
      "    ``'1'``         tri_down marker\n",
      "    ``'2'``         tri_up marker\n",
      "    ``'3'``         tri_left marker\n",
      "    ``'4'``         tri_right marker\n",
      "    ``'8'``         octagon marker\n",
      "    ``'s'``         square marker\n",
      "    ``'p'``         pentagon marker\n",
      "    ``'P'``         plus (filled) marker\n",
      "    ``'*'``         star marker\n",
      "    ``'h'``         hexagon1 marker\n",
      "    ``'H'``         hexagon2 marker\n",
      "    ``'+'``         plus marker\n",
      "    ``'x'``         x marker\n",
      "    ``'X'``         x (filled) marker\n",
      "    ``'D'``         diamond marker\n",
      "    ``'d'``         thin_diamond marker\n",
      "    ``'|'``         vline marker\n",
      "    ``'_'``         hline marker\n",
      "    =============   ===============================\n",
      "    \n",
      "    **Line Styles**\n",
      "    \n",
      "    =============    ===============================\n",
      "    character        description\n",
      "    =============    ===============================\n",
      "    ``'-'``          solid line style\n",
      "    ``'--'``         dashed line style\n",
      "    ``'-.'``         dash-dot line style\n",
      "    ``':'``          dotted line style\n",
      "    =============    ===============================\n",
      "    \n",
      "    Example format strings::\n",
      "    \n",
      "        'b'    # blue markers with default shape\n",
      "        'or'   # red circles\n",
      "        '-g'   # green solid line\n",
      "        '--'   # dashed line with default color\n",
      "        '^k:'  # black triangle_up markers connected by a dotted line\n",
      "    \n",
      "    **Colors**\n",
      "    \n",
      "    The supported color abbreviations are the single letter codes\n",
      "    \n",
      "    =============    ===============================\n",
      "    character        color\n",
      "    =============    ===============================\n",
      "    ``'b'``          blue\n",
      "    ``'g'``          green\n",
      "    ``'r'``          red\n",
      "    ``'c'``          cyan\n",
      "    ``'m'``          magenta\n",
      "    ``'y'``          yellow\n",
      "    ``'k'``          black\n",
      "    ``'w'``          white\n",
      "    =============    ===============================\n",
      "    \n",
      "    and the ``'CN'`` colors that index into the default property cycle.\n",
      "    \n",
      "    If the color is the only part of the format string, you can\n",
      "    additionally use any  `matplotlib.colors` spec, e.g. full names\n",
      "    (``'green'``) or hex strings (``'#008000'``).\n",
      "\n"
     ]
    }
   ],
   "source": [
    "help(plt.plot)"
   ]
  },
  {
   "cell_type": "code",
   "execution_count": 20,
   "id": "f88a7e64-9008-4427-9032-1bb7a3054614",
   "metadata": {},
   "outputs": [
    {
     "data": {
      "text/plain": [
       "array([0.00000e+00, 1.30000e+01, 2.04500e+02, 2.53810e+03, 2.69779e+04])"
      ]
     },
     "execution_count": 20,
     "metadata": {},
     "output_type": "execute_result"
    }
   ],
   "source": [
    "data[0].agg(func=\"mean\",axis=0).values"
   ]
  },
  {
   "cell_type": "code",
   "execution_count": null,
   "id": "c4e5cd21-9e4f-4592-9bfa-798bf431b656",
   "metadata": {},
   "outputs": [],
   "source": []
  },
  {
   "cell_type": "code",
   "execution_count": null,
   "id": "ec76c12f-7498-4623-b052-28903f1c9af6",
   "metadata": {},
   "outputs": [],
   "source": []
  },
  {
   "cell_type": "code",
   "execution_count": null,
   "id": "8f034f29-0af6-447f-a330-344808ffdc85",
   "metadata": {},
   "outputs": [],
   "source": []
  },
  {
   "cell_type": "code",
   "execution_count": null,
   "id": "4a44da76-7837-4b9f-9f2f-c44ac770359d",
   "metadata": {},
   "outputs": [],
   "source": []
  },
  {
   "cell_type": "code",
   "execution_count": null,
   "id": "49d5b739-19dd-4933-83c7-df6a8719b238",
   "metadata": {},
   "outputs": [],
   "source": []
  },
  {
   "cell_type": "code",
   "execution_count": null,
   "id": "d783dec3-a386-4acf-b14e-7dc6acc0a94a",
   "metadata": {},
   "outputs": [],
   "source": []
  },
  {
   "cell_type": "code",
   "execution_count": null,
   "id": "9da50ac2-ede0-4507-8200-d56d57a72b7c",
   "metadata": {},
   "outputs": [],
   "source": []
  },
  {
   "cell_type": "code",
   "execution_count": null,
   "id": "dfd72d30-6397-4a45-964b-2670f891f232",
   "metadata": {},
   "outputs": [],
   "source": []
  },
  {
   "cell_type": "code",
   "execution_count": null,
   "id": "a0794572-c69d-4e96-b22b-ab829847342f",
   "metadata": {},
   "outputs": [],
   "source": []
  },
  {
   "cell_type": "code",
   "execution_count": null,
   "id": "644befcb-b85e-4c5e-9434-f1e0c0b6d448",
   "metadata": {},
   "outputs": [],
   "source": []
  },
  {
   "cell_type": "code",
   "execution_count": null,
   "id": "0c7321a8-3541-413c-b34a-e49315b967a9",
   "metadata": {},
   "outputs": [],
   "source": []
  },
  {
   "cell_type": "code",
   "execution_count": null,
   "id": "fdf43422-7318-48c6-b5f9-b6234e5700ba",
   "metadata": {},
   "outputs": [],
   "source": []
  },
  {
   "cell_type": "code",
   "execution_count": null,
   "id": "5d0c06f6-5a6a-466d-b273-d6df4cfeb419",
   "metadata": {},
   "outputs": [],
   "source": []
  },
  {
   "cell_type": "code",
   "execution_count": null,
   "id": "27387e9b-0807-4e6d-bd7b-44ba6f15f32f",
   "metadata": {},
   "outputs": [],
   "source": []
  },
  {
   "cell_type": "code",
   "execution_count": null,
   "id": "e1aa8da4-2f16-43a5-8b8c-3bc2daa2f76c",
   "metadata": {},
   "outputs": [],
   "source": []
  },
  {
   "cell_type": "code",
   "execution_count": null,
   "id": "e95ad8df-8681-4af5-bbc6-03a136731a09",
   "metadata": {},
   "outputs": [],
   "source": []
  },
  {
   "cell_type": "code",
   "execution_count": null,
   "id": "89983f25-3b1f-40d1-be7b-561a23db4799",
   "metadata": {},
   "outputs": [],
   "source": []
  },
  {
   "cell_type": "code",
   "execution_count": null,
   "id": "51b65a24-708e-4d89-afa6-9b7afb3712fa",
   "metadata": {},
   "outputs": [],
   "source": []
  },
  {
   "cell_type": "code",
   "execution_count": null,
   "id": "ef64a5cf-8b33-43ac-9ba9-eafdd615f4c1",
   "metadata": {},
   "outputs": [],
   "source": []
  },
  {
   "cell_type": "code",
   "execution_count": null,
   "id": "ad127393-380a-487b-8520-96c615f498c3",
   "metadata": {},
   "outputs": [],
   "source": []
  },
  {
   "cell_type": "code",
   "execution_count": null,
   "id": "a04f74c8-d9e4-4794-b058-34ed18749ec5",
   "metadata": {},
   "outputs": [],
   "source": []
  },
  {
   "cell_type": "code",
   "execution_count": null,
   "id": "da81727d-08bd-4b5a-ae93-68fc45ee987e",
   "metadata": {},
   "outputs": [],
   "source": []
  },
  {
   "cell_type": "code",
   "execution_count": null,
   "id": "a2281288-5ffc-4e70-8640-487f4be03f6b",
   "metadata": {},
   "outputs": [],
   "source": []
  },
  {
   "cell_type": "code",
   "execution_count": null,
   "id": "950b26ba-a685-4bab-8d0b-351e5f0f8eb4",
   "metadata": {},
   "outputs": [],
   "source": []
  },
  {
   "cell_type": "code",
   "execution_count": null,
   "id": "11d95f70-0082-43af-9c6c-be5bba3b1d74",
   "metadata": {},
   "outputs": [],
   "source": []
  },
  {
   "cell_type": "code",
   "execution_count": null,
   "id": "5177bf5c-12f9-40ab-abca-01a4306137fa",
   "metadata": {},
   "outputs": [],
   "source": []
  }
 ],
 "metadata": {
  "kernelspec": {
   "display_name": "Python 3 (ipykernel)",
   "language": "python",
   "name": "python3"
  },
  "language_info": {
   "codemirror_mode": {
    "name": "ipython",
    "version": 3
   },
   "file_extension": ".py",
   "mimetype": "text/x-python",
   "name": "python",
   "nbconvert_exporter": "python",
   "pygments_lexer": "ipython3",
   "version": "3.10.12"
  }
 },
 "nbformat": 4,
 "nbformat_minor": 5
}
